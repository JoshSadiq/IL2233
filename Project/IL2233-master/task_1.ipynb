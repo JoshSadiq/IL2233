{
 "cells": [
  {
   "attachments": {},
   "cell_type": "markdown",
   "metadata": {},
   "source": [
    "# Task 1 - Time-series prediction with neural networks\n",
    "\n",
    "### Library imports"
   ]
  },
  {
   "cell_type": "code",
   "execution_count": null,
   "metadata": {},
   "outputs": [],
   "source": [
    "# Math\n",
    "import math\n",
    "from random import gauss, random\n",
    "import statsmodels.api as sm\n",
    "\n",
    "# Data management\n",
    "import numpy as np\n",
    "from pandas import Series\n",
    "\n",
    "# Neural networks\n",
    "import torch\n",
    "import torch.nn as nn\n",
    "from torch.autograd import Variable\n",
    "import keras\n",
    "\n",
    "# ARIMA\n",
    "from pmdarima.arima import auto_arima\n",
    "from statsmodels.tsa.arima.model import ARIMA\n",
    "\n",
    "# Plotting\n",
    "from matplotlib.pyplot import plot, show, xlim, ylim, legend, subplots, title, yscale, ylabel, xlabel\n",
    "from statsmodels.graphics.tsaplots import plot_pacf, plot_acf\n",
    "\n",
    "# Metrics\n",
    "from sklearn.metrics import mean_squared_error as mse, mean_absolute_percentage_error as mape, mean_absolute_error as mae\n",
    "from statsmodels.tsa.stattools import adfuller"
   ]
  },
  {
   "attachments": {},
   "cell_type": "markdown",
   "metadata": {},
   "source": [
    "## Task 1.1 - Prediction with MLP, RNN, LSTM using synthetic series"
   ]
  },
  {
   "attachments": {},
   "cell_type": "markdown",
   "metadata": {},
   "source": [
    "### Helper functions"
   ]
  },
  {
   "cell_type": "code",
   "execution_count": null,
   "metadata": {},
   "outputs": [],
   "source": [
    "# Generates series with start, end, step as input arguments\n",
    "# Returns 80% of the series as training data, remaining 20% as test data\n",
    "def gen_series(start : float, end : float, step : float):\n",
    "    i = start\n",
    "    series = np.array([])\n",
    "    while (i < end):\n",
    "        series = np.append(series, i)\n",
    "        i += step\n",
    "    \n",
    "    train_index = math.floor(0.8*len(series))\n",
    "    train_data = np.array(series[0:train_index])\n",
    "    test_data = np.array(series[train_index:])\n",
    "\n",
    "    return train_data, test_data\n",
    "\n",
    "# Function to convert data into supervised learning data sets\n",
    "# Returns input data and labels as two numpy arrays\n",
    "def transform_data_set(data, input_size, output_size):\n",
    "    arr_len = len(data) - (input_size - 1) - output_size\n",
    "    input_data = np.zeros((arr_len, input_size))\n",
    "    label = np.zeros((arr_len, output_size))\n",
    "\n",
    "    for i in range(arr_len):\n",
    "        for j in range(input_size):\n",
    "            input_data[i, j] = data[i + j]\n",
    "        for k in range(output_size):\n",
    "            if(i < (arr_len)):\n",
    "                label[i, k] = data[i + input_size + k]\n",
    "\n",
    "    return input_data, label\n",
    "\n",
    "\n",
    "# Adds white noise to existing series\n",
    "# data should be non-transformed data set, aka output from gen_series()\n",
    "def add_white_noise(data : np.ndarray, mean: int = 0, var: int = 1):\n",
    "    # Generate white noise\n",
    "    wn = np.random.normal(mean, var, len(data))\n",
    "\n",
    "    # Find mean of generated data\n",
    "    # Used to control amplitude of white noise\n",
    "    mean = data.mean()\n",
    "    wn = wn * mean\n",
    "\n",
    "    # Add white noise to data\n",
    "    wn_data = data + wn\n",
    "\n",
    "    return wn_data\n",
    "\n",
    "# Generates a time series in the form of a sinusoidal wave\n",
    "# Returns index, training data (80%), and testing data (20%)\n",
    "def gen_sin(period_time : int = 20, sample_rate : int = 100, amplitude : int = 1, periods : int = 1):\n",
    "    # Current interpretation of sample_rate: sample_rate * frequency (inv. periods) equals amount of datapoints needed for a single period\n",
    "    x = np.linspace(0, period_time * periods, sample_rate * period_time)\n",
    "    data = np.sin(2 * np.pi * sample_rate * x)\n",
    "   \n",
    "    train_index = math.floor(0.8*len(data))\n",
    "    train_data = np.array(data[0:train_index])\n",
    "    test_data = np.array(data[train_index:])\n",
    "\n",
    "    return x, train_data, test_data"
   ]
  },
  {
   "attachments": {},
   "cell_type": "markdown",
   "metadata": {},
   "source": [
    "### Task 1.1.1\n",
    "An equal-difference series starting from 0, ending to 1 (excluding 1), with a length\n",
    "of 200 points (step = 0.005).\n",
    "Design an MLP for one-step prediction. The output vector has a size of 1. Let the\n",
    "input vector be a size of 4."
   ]
  },
  {
   "cell_type": "code",
   "execution_count": null,
   "metadata": {},
   "outputs": [],
   "source": [
    "# Generate equal-difference series, 0 to 1 (excl.), len = 200, step 0.005\n",
    "train_data, test_data = gen_series(0, 1, 0.005)\n",
    "\n",
    "# Split training and test data into supervised learning format with input data and labels\n",
    "train_input_data, train_label = transform_data_set(train_data, 4, 1)\n",
    "test_input_data, test_label = transform_data_set(test_data, 4, 1)\n",
    "#### Design MLP\n",
    "# Define hyperparameters for MLP model with one-step prediction\n",
    "input_size = 4\n",
    "hidden_size = 10\n",
    "output_size = 1\n",
    "num_epochs = 100\n",
    "learning_rate = 0.01\n",
    "\n",
    "# Define model class\n",
    "class MLP(nn.Module):\n",
    "    def __init__(self, input_size, hidden_size, output_size):\n",
    "        super(MLP, self).__init__()\n",
    "        self.fc1 = nn.Linear(input_size, hidden_size)\n",
    "        self.relu = nn.ReLU()\n",
    "        self.fc2 = nn.Linear(hidden_size,output_size)\n",
    "\n",
    "    def forward(self, x):\n",
    "        out = self.fc1(x)\n",
    "        out = self.relu(out)\n",
    "        out = self.fc2(out)\n",
    "\n",
    "        return out\n",
    "\n",
    "# Initialize model\n",
    "model = MLP(input_size, hidden_size, output_size)\n",
    "\n",
    "# Define loss function and optimizer\n",
    "criterion = nn.MSELoss()\n",
    "optimizer = torch.optim.Adam(model.parameters(), lr=learning_rate)\n",
    "\n",
    "# Train model\n",
    "for epoch in range(num_epochs):\n",
    "    # Convert numpy arrays to torch tensors\n",
    "    inputs = Variable(torch.from_numpy(train_input_data).float())\n",
    "    labels = Variable(torch.from_numpy(train_label).float())\n",
    "\n",
    "    # Forward pass\n",
    "    outputs = model(inputs)\n",
    "    loss = criterion(outputs, labels)\n",
    "\n",
    "    # Backward and optimize\n",
    "    optimizer.zero_grad()\n",
    "    loss.backward()\n",
    "    optimizer.step()\n",
    "\n",
    "    # Print loss\n",
    "    if (epoch + 1) % 5 == 0:\n",
    "        print('Epoch [%d/%d], Loss: %.4f' % (epoch + 1, num_epochs, loss.item()))\n",
    "\n",
    "# Test model\n",
    "model.eval()\n",
    "var_test_input_data = Variable(torch.from_numpy(test_input_data).float())\n",
    "test_output = model(var_test_input_data)\n",
    "\n",
    "# Find MSE of test data\n",
    "test_mse = criterion(test_output, Variable(torch.from_numpy(test_label).float()))\n",
    "print('Test MSE: %.4f' % (test_mse.item()))\n",
    "\n",
    "# Plot training data, test data, and predicted test data\n",
    "plot(train_data, label='Training data')\n",
    "plot(np.arange(len(train_data), len(train_data) + len(test_data)), test_data, label='Test data')\n",
    "plot(np.arange(len(train_data), len(train_data) + len(test_data) - input_size), test_output.data.numpy(), label='Predicted test data', linestyle='--')\n",
    "title(f'MLP with simple synthetic series, MSE: {test_mse.item():.6f}')\n",
    "legend()\n",
    "show()"
   ]
  },
  {
   "attachments": {},
   "cell_type": "markdown",
   "metadata": {},
   "source": [
    "### Task 1.1.2\n",
    "An equal-difference series starting from 0, ending to 1, with a length of 200 points\n",
    "(step = 0.005), plus white noise i.e., random variable with zero mean and 1 variance.\n",
    "You may need to control the amplitude of the noise series in order to control the\n",
    "signal-noise ratio.\n",
    "Design an MLP for one-step prediction. The output vector has a size of 1. Let the\n",
    "input vector be a size of 4."
   ]
  },
  {
   "cell_type": "code",
   "execution_count": null,
   "metadata": {},
   "outputs": [],
   "source": [
    "test_mse = 1\n",
    "while (test_mse > 0.01):\n",
    "    # Generate equal-difference series, 0 to 1 (excl.), len = 200, step 0.005\n",
    "    train_data, test_data = gen_series(0, 1, 0.005)\n",
    "\n",
    "    wn_train_data = add_white_noise(train_data, mean = 0, var = 0.1)\n",
    "    wn_test_data = add_white_noise(test_data, mean = 0, var = 0.1)\n",
    "\n",
    "\n",
    "    # Split training and test data into supervised learning format with input data and labels\n",
    "    train_input_data, train_label = transform_data_set(wn_train_data, 4, 1)\n",
    "    test_input_data, test_label = transform_data_set(wn_test_data, 4, 1)\n",
    "    # Define hyperparameters for MLP model with one-step prediction\n",
    "    input_size = 4\n",
    "    hidden_size = 5\n",
    "    output_size = 1\n",
    "    num_epochs = 1000\n",
    "    learning_rate = 0.001\n",
    "\n",
    "    # Define model class\n",
    "    class MLP(nn.Module):\n",
    "        def __init__(self, input_size, hidden_size, output_size):\n",
    "            super(MLP, self).__init__()\n",
    "            self.fc1 = nn.Linear(input_size, hidden_size)\n",
    "            self.relu = nn.ReLU()\n",
    "            self.fc2 = nn.Linear(hidden_size,output_size)\n",
    "\n",
    "        def forward(self, x):\n",
    "            out = self.fc1(x)\n",
    "            out = self.relu(out)\n",
    "            out = self.fc2(out)\n",
    "\n",
    "            return out\n",
    "\n",
    "    # Initialize model\n",
    "    model = MLP(input_size, hidden_size, output_size)\n",
    "\n",
    "    # Define loss function and optimizer\n",
    "    criterion = nn.MSELoss()\n",
    "    optimizer = torch.optim.Adam(model.parameters(), lr=learning_rate)\n",
    "\n",
    "\n",
    "\n",
    "    # Train model\n",
    "    for epoch in range(num_epochs):\n",
    "        # Convert numpy arrays to torch tensors\n",
    "        inputs = Variable(torch.from_numpy(train_input_data).float())\n",
    "        labels = Variable(torch.from_numpy(train_label).float())\n",
    "\n",
    "        # Forward pass\n",
    "        outputs = model(inputs)\n",
    "        loss = criterion(outputs, labels)\n",
    "\n",
    "        # Backward and optimize\n",
    "        optimizer.zero_grad()\n",
    "        loss.backward()\n",
    "        optimizer.step()\n",
    "\n",
    "        # Print loss\n",
    "        # if (epoch + 1) % 100 == 0:\n",
    "        #     print('Epoch [%d/%d], Loss: %.4f' % (epoch + 1, num_epochs, loss.item()))\n",
    "\n",
    "    # Test model\n",
    "    model.eval()\n",
    "    var_test_input_data = Variable(torch.from_numpy(test_input_data).float())\n",
    "    test_output = model(var_test_input_data)\n",
    "\n",
    "    # Find MSE of test data\n",
    "    test_mse = criterion(test_output, Variable(torch.from_numpy(test_label).float()))\n",
    "    print('Test MSE: %.4f' % (test_mse.item()))\n",
    "\n",
    "# Plot training data, test data, and predicted test data\n",
    "plot(train_input_data[:,0], label='Training data')\n",
    "plot(np.arange(len(train_input_data), len(train_input_data) + len(test_input_data)), test_input_data[:,0], label='Test data')\n",
    "plot(np.arange(len(train_input_data), len(train_input_data) + len(test_data) - input_size), test_output.data.numpy(), label='Predicted test data', linestyle='--')\n",
    "title(f'MLP with white-noised synthetic series, MSE: {test_mse.item():.6f}')\n",
    "legend()\n",
    "show()"
   ]
  },
  {
   "attachments": {},
   "cell_type": "markdown",
   "metadata": {},
   "source": [
    "### Task 1.1.3\n",
    "A deterministic series sampled from a sinusoidal wave with period 20 seconds, with\n",
    "a sample rate of 100 Hz. Generate sufficient samples (at least 3 periods of data) as\n",
    "needed to achieve good performance, e.g. MSE (mean squared error) below 0.5.\n",
    "\n",
    "Design an RNN and a LSTM for two-step prediction. The output vector has a size\n",
    "of 2. Set the input vector size by yourself."
   ]
  },
  {
   "attachments": {},
   "cell_type": "markdown",
   "metadata": {},
   "source": [
    "#### RNN"
   ]
  },
  {
   "cell_type": "code",
   "execution_count": null,
   "metadata": {},
   "outputs": [],
   "source": [
    "# Generate sine wave\n",
    "x, train_data, test_data = gen_sin(periods = 3)\n",
    "\n",
    "# Split training and test data into supervised learning format with input data and labels\n",
    "train_input_data, train_label = transform_data_set(train_data, 4, 2)\n",
    "test_input_data, test_label = transform_data_set(test_data, 4, 2)\n",
    "\n",
    "# Design RNN model\n",
    "model = keras.models.Sequential()\n",
    "model.add(keras.layers.SimpleRNN(5, input_shape=(4, 1), return_sequences=False))\n",
    "model.add(keras.layers.Dense(2))\n",
    "model.add(keras.layers.Activation('tanh'))\n",
    "model.compile(loss='mean_squared_error', optimizer='adam')\n",
    "model.fit(train_input_data, train_label, epochs=10, batch_size=1, verbose=2)\n",
    "\n",
    "# Test model\n",
    "test_output = model.predict(test_input_data)\n",
    "\n",
    "# Find MSE of test data\n",
    "test_mse = keras.losses.mean_squared_error(test_label, test_output)\n",
    "print('Test MSE: %.4f' % (sum(test_mse) / 395))\n",
    "\n",
    "\n",
    "# Plot training data, test data, and predicted test data\n",
    "plot(train_input_data[:,0], label='Training data')\n",
    "plot(np.arange(len(train_input_data), len(train_input_data) + len(test_input_data)), test_input_data[:,0], label='Test data')\n",
    "plot(np.arange(len(train_input_data), len(train_input_data) + len(test_data) - input_size - 1), test_output[:,0], label='Predicted test data', linestyle='--')\n",
    "title(f'RNN with simple sinusoid, MSE: {(sum(test_mse) / 395):.6f}')\n",
    "legend()\n",
    "show()\n"
   ]
  },
  {
   "attachments": {},
   "cell_type": "markdown",
   "metadata": {},
   "source": [
    "#### LSTM"
   ]
  },
  {
   "cell_type": "code",
   "execution_count": null,
   "metadata": {},
   "outputs": [],
   "source": [
    "# Design LSTM model with Keras\n",
    "model = keras.models.Sequential()\n",
    "model.add(keras.layers.LSTM(5, input_shape=(4, 1), return_sequences=False))\n",
    "model.add(keras.layers.Dense(2))\n",
    "model.add(keras.layers.Activation('tanh'))\n",
    "model.compile(loss='mean_squared_error', optimizer='adam')\n",
    "model.fit(train_input_data, train_label, epochs=10, batch_size=1, verbose=2)\n",
    "\n",
    "# Test model\n",
    "test_output = model.predict(test_input_data)\n",
    "\n",
    "# Find MSE of test data\n",
    "test_mse = keras.losses.mean_squared_error(test_label, test_output)\n",
    "print('Test MSE: %.4f' % (sum(test_mse) / 395))\n",
    "\n",
    "\n",
    "# Plot training data, test data, and predicted test data\n",
    "plot(train_input_data[:,0], label='Training data')\n",
    "plot(np.arange(len(train_input_data), len(train_input_data) + len(test_input_data)), test_input_data[:,0], label='Test data')\n",
    "plot(np.arange(len(train_input_data), len(train_input_data) + len(test_data) - input_size - 1), test_output[:,0], label='Predicted test data', linestyle='--')\n",
    "title(f'LSTM with simple sinusoid, MSE: {(sum(test_mse) / 395):.6f}')\n",
    "legend()\n",
    "show()\n"
   ]
  },
  {
   "attachments": {},
   "cell_type": "markdown",
   "metadata": {},
   "source": [
    "### Task 1.1.4\n",
    "\n",
    "A stochastic series sampled from a sinusoidal wave with period 20 seconds, with a sample rate of 100 Hz, plus random white noise i.e., random variable with zero mean and 1 variance. Control the amplitude of the noise with a fractional number, e.g. 0.1.\n",
    "\n",
    "Design an RNN and a LSTM for two-step prediction. The output vector has a size of 2. Set the input vector size by yourself."
   ]
  },
  {
   "attachments": {},
   "cell_type": "markdown",
   "metadata": {},
   "source": [
    "#### RNN"
   ]
  },
  {
   "cell_type": "code",
   "execution_count": null,
   "metadata": {},
   "outputs": [],
   "source": [
    "# Generate sine wave\n",
    "x, train_data, test_data = gen_sin(periods = 3)\n",
    "\n",
    "# Add white noise to training and test data\n",
    "train_data_wn = add_white_noise(train_data, 0, 0.5)\n",
    "test_data_wn = add_white_noise(test_data, 0, 0.1)\n",
    "\n",
    "# Split training and test data into supervised learning format with input data and labels\n",
    "train_input_data, train_label = transform_data_set(train_data_wn, 4, 2)\n",
    "test_input_data, test_label = transform_data_set(test_data_wn, 4, 2)\n",
    "\n",
    "# Design RNN model\n",
    "model = keras.models.Sequential()\n",
    "model.add(keras.layers.SimpleRNN(5, input_shape=(4, 1), return_sequences=False))\n",
    "model.add(keras.layers.Dense(2))\n",
    "model.add(keras.layers.Activation('tanh'))\n",
    "model.compile(loss='mean_squared_error', optimizer='adam')\n",
    "model.fit(train_input_data, train_label, epochs=10, batch_size=1, verbose=2)\n",
    "\n",
    "# Test model\n",
    "test_output = model.predict(test_input_data)\n",
    "\n",
    "# Find MSE of test data\n",
    "test_mse = keras.losses.mean_squared_error(test_label, test_output)\n",
    "print('Test MSE: %.4f' % (sum(test_mse) / 395))\n",
    "\n",
    "# Plot training data, test data, and predicted test data\n",
    "plot(train_input_data[:,0], label='Training data')\n",
    "plot(np.arange(len(train_input_data), len(train_input_data) + len(test_input_data)), test_input_data[:,0], label='Test data')\n",
    "plot(np.arange(len(train_input_data), len(train_input_data) + len(test_data) - input_size - 1), test_output[:,0], label='Predicted test data', linestyle='--')\n",
    "title(f'RNN with white-noised sinusoid, MSE: {(sum(test_mse) / 395):.6f}')\n",
    "legend()\n",
    "show()\n"
   ]
  },
  {
   "attachments": {},
   "cell_type": "markdown",
   "metadata": {},
   "source": [
    "#### LSTM"
   ]
  },
  {
   "cell_type": "code",
   "execution_count": null,
   "metadata": {},
   "outputs": [],
   "source": [
    "# Design LSTM model with Keras\n",
    "model = keras.models.Sequential()\n",
    "model.add(keras.layers.LSTM(5, input_shape=(4, 1), return_sequences=False))\n",
    "model.add(keras.layers.Dense(2))\n",
    "model.add(keras.layers.Activation('tanh'))\n",
    "model.compile(loss='mean_squared_error', optimizer='adam')\n",
    "model.fit(train_input_data, train_label, epochs=10, batch_size=1, verbose=2)\n",
    "\n",
    "# Test model\n",
    "test_output = model.predict(test_input_data)\n",
    "\n",
    "# Find MSE of test data\n",
    "test_mse = keras.losses.mean_squared_error(test_label, test_output)\n",
    "print('Test MSE: %.4f' % (sum(test_mse) / 395))\n",
    "\n",
    "# Plot training data, test data, and predicted test data\n",
    "plot(train_input_data[:,0], label='Training data')\n",
    "plot(np.arange(len(train_input_data), len(train_input_data) + len(test_input_data)), test_input_data[:,0], label='Test data')\n",
    "plot(np.arange(len(train_input_data), len(train_input_data) + len(test_data) - input_size - 1), test_output[:,0], label='Predicted test data', linestyle='--')\n",
    "title(f'LSTM with white-noised sinusoid, MSE: {(sum(test_mse) / 395):.6f}')\n",
    "legend()\n",
    "show()\n"
   ]
  },
  {
   "attachments": {},
   "cell_type": "markdown",
   "metadata": {},
   "source": [
    "## Task 1.2 - Predict white noise, random walk, an ARMA process using neural networks\n",
    "\n",
    "Dataset. We use three synthetic data sets, each with 1000 data points.\n",
    "1. A pure white-noise signal.\n",
    "2. A random-walk series.\n",
    "3. A stationary series generated by an ARMA(2, 2) process. Make sure that the process\n",
    "with right parameters generates a stationary series."
   ]
  },
  {
   "attachments": {},
   "cell_type": "markdown",
   "metadata": {},
   "source": [
    "### Helper functions"
   ]
  },
  {
   "cell_type": "code",
   "execution_count": null,
   "metadata": {},
   "outputs": [],
   "source": [
    "# White noise: Variables are independent, identically distributed (iid), mean = 0 \n",
    "# Returns x and white noise array, use both in plot(x, wn) to ensure right scaling\n",
    "def gen_wn_series(start : int = 0, end : int = 1, step : int = 100, var : int = 1):\n",
    "    x = np.linspace(start, end, step)\n",
    "    wn = [gauss(0.0, var) for _ in range(step)]\n",
    "    wn = np.array(wn)\n",
    "\n",
    "    return x, wn\n",
    "\n",
    "# Random walk: Variables are not iid, mean = 0\n",
    "# Returns x and random walk array, use both in plot(x, rw) to ensure right scaling\n",
    "def gen_rw_series(start : int = 0, end : int = 1, step : int = 100, var : int = 1):\n",
    "    x = np.linspace(start, end, step)\n",
    "    rw = [0]\n",
    "    for i in range(1, step):\n",
    "        rw.append(rw[i-1] + gauss(0.0, var))\n",
    "    rw = np.array(rw)\n",
    "\n",
    "    return x, rw\n",
    "\n",
    "# Generate ARMA(p, q) series using statsmodels\n",
    "def gen_arma_series(p : int = 1, q : int = 1, start : int = 0, end : int = 1, step : int = 100, var : int = 1):\n",
    "    x = np.linspace(start, end, step)\n",
    "    arma = sm.tsa.arma_generate_sample(ar = [1, p], ma = [1, q], nsample = step, scale = var)\n",
    "    arma = np.array(arma)\n",
    "\n",
    "    return x, arma\n",
    "\n",
    "# Ljungbox test used to determine randomness\n",
    "def ljungbox(series: Series):\n",
    "    print(sm.stats.acorr_ljungbox(series))\n",
    "\n",
    "# Function to convert data into supervised learning data sets\n",
    "# Returns input data and labels as two numpy arrays\n",
    "def transform_data_set(data, input_size, output_size):\n",
    "    arr_len = len(data) - (input_size - 1) - output_size\n",
    "    input_data = np.zeros((arr_len, input_size))\n",
    "    label = np.zeros((arr_len, output_size))\n",
    "\n",
    "    for i in range(arr_len):\n",
    "        for j in range(input_size):\n",
    "            input_data[i, j] = data[i + j]\n",
    "        for k in range(output_size):\n",
    "            if(i < (arr_len)):\n",
    "                label[i, k] = data[i + input_size + k]\n",
    "\n",
    "    return input_data, label\n"
   ]
  },
  {
   "cell_type": "code",
   "execution_count": null,
   "metadata": {},
   "outputs": [],
   "source": [
    "# Generate white noise series\n",
    "x_wn, wn = gen_wn_series(start = 0, end = 100, step = 1000, var = 0.5)\n",
    "# Generate random walk series\n",
    "x_rw, rw = gen_rw_series(start = 0, end = 100, step = 1000)\n",
    "# Generate ARMA(2, 2) series\n",
    "x_arma, arma = gen_arma_series(p = 2, q = 2, start = 0, end = 100, step = 1000)\n",
    "\n",
    "# Transform data sets into supervised-learning data sets\n",
    "input_data_wn, label_wn = transform_data_set(wn, 4, 2)\n",
    "input_data_rn, label_rn = transform_data_set(rw, 4, 2)\n",
    "input_data_arma, label_arma = transform_data_set(arma, 4, 2)\n",
    "\n",
    "\n",
    "# Tensorize data sets\n",
    "input_data_wn = input_data_wn.reshape((input_data_wn.shape[0], input_data_wn.shape[1], 1))\n",
    "label_wn = label_wn.reshape((label_wn.shape[0], label_wn.shape[1], 1))\n",
    "input_data_rn = input_data_rn.reshape((input_data_rn.shape[0], input_data_rn.shape[1], 1))\n",
    "label_rn = label_rn.reshape((label_rn.shape[0], label_rn.shape[1], 1))\n",
    "input_data_arma = input_data_arma.reshape((input_data_arma.shape[0], input_data_arma.shape[1], 1))\n",
    "label_arma = label_arma.reshape((label_arma.shape[0], label_arma.shape[1], 1))\n",
    "\n",
    "\n",
    "# Create LSTM model\n",
    "model = keras.Sequential()\n",
    "model.add(keras.layers.LSTM(100, activation='tanh', input_shape=(4, 1)))\n",
    "model.add(keras.layers.Dense(2))\n",
    "model.compile(optimizer='adam', loss='mse')\n",
    "\n",
    "\n",
    "\n",
    "# Predict white noise series\n",
    "model.fit(input_data_wn, label_wn, epochs=50, batch_size=1, verbose=0)\n",
    "wn_output = model.predict(input_data_wn)\n",
    "# Calculate MSE of predicted white noise series\n",
    "wn_mse = keras.losses.mean_squared_error(label_wn[:,:,0], wn_output)\n",
    "print('White noise MSE: %.4f' % (sum(wn_mse) / len(wn_mse)))\n",
    "\n",
    "\n",
    "\n",
    "# Predict random walk series\n",
    "model.fit(input_data_rn, label_rn, epochs=50, batch_size=1, verbose=0)\n",
    "rn_output = model.predict(input_data_rn)\n",
    "# Calculate MSE of predicted random walk series\n",
    "rn_mse = keras.losses.mean_squared_error(label_rn[:,:,0], rn_output)\n",
    "print('Random walk MSE: %.4f' % (sum(rn_mse) / len(rn_mse)))\n",
    "\n",
    "\n",
    "\n",
    "# Predict ARMA(2, 2) series\n",
    "model.fit(input_data_arma, label_arma, epochs=50, batch_size=1, verbose=0)\n",
    "arma_output = model.predict(input_data_arma)\n",
    "# Calculate MSE of predicted ARMA(2, 2) series\n",
    "arma_mse = keras.losses.mean_squared_error(label_arma[:,:,0], arma_output)\n",
    "print('ARMA(2, 2) MSE: %.4f' % (sum(arma_mse) / len(arma_mse)))"
   ]
  },
  {
   "cell_type": "code",
   "execution_count": null,
   "metadata": {},
   "outputs": [],
   "source": [
    "# Create subplot for 3 plots\n",
    "fig, axs = subplots(3, 1, figsize=(10, 10))\n",
    "\n",
    "\n",
    "# Plot white noise series, predicted white noise series\n",
    "axs[0].plot(x_wn, wn, label='White noise')\n",
    "axs[0].plot(x_wn[5:], wn_output[:,0], label='Predicted white noise', linestyle='--')\n",
    "axs[0].legend()\n",
    "axs[0].set_title('White noise series and predicted series, MSE %.4f' %  (sum(wn_mse) / len(wn_mse)))\n",
    "# Plot random walk series, predicted random walk series\n",
    "axs[1].plot(x_rw, rw, label='Random walk')\n",
    "axs[1].plot(x_rw[5:], rn_output[:,1], label='Predicted random walk', linestyle='--')\n",
    "axs[1].legend()\n",
    "axs[1].set_title('Random walk series and predicted series, MSE %.4f' %  (sum(rn_mse) / len(rn_mse)))\n",
    "# Plot arma(2, 2) series, predicted arma(2, 2) series\n",
    "axs[2].plot(x_arma, arma, label='ARMA(2, 2)')\n",
    "axs[2].plot(x_arma[5:], arma_output[:,1], label='Predicted ARMA(2, 2)', linestyle='--')\n",
    "axs[2].legend()\n",
    "axs[2].set_title('ARMA(2, 2) series and predicted series, MSE %.4f' %  (sum(arma_mse) / len(arma_mse)))\n",
    "show()"
   ]
  },
  {
   "attachments": {},
   "cell_type": "markdown",
   "metadata": {},
   "source": [
    "## Task 1.3 - Comparison with ARIMA-based modeling and prediction"
   ]
  },
  {
   "attachments": {},
   "cell_type": "markdown",
   "metadata": {},
   "source": [
    "### Helper functions"
   ]
  },
  {
   "cell_type": "code",
   "execution_count": null,
   "metadata": {},
   "outputs": [],
   "source": [
    "# Function to generate Fibonacci series\n",
    "def gen_fib_series(start : int = 0, end : int = 50 - 1, step : int = 50):\n",
    "    x = np.linspace(start, end, step)\n",
    "    fib = np.zeros(step)\n",
    "    fib[0] = 0\n",
    "    fib[1] = 1\n",
    "    for i in range(2, step):\n",
    "        fib[i] = fib[i - 1] + fib[i - 2]\n",
    "    \n",
    "    fib = Series(fib)\n",
    "    return x, fib\n",
    "\n",
    "# Adds white noise to existing series\n",
    "# data should be non-transformed data set, aka output from gen_fib_series()\n",
    "def add_white_noise(series : Series, mean: int = 0, var: int = 1):\n",
    "    # Generate white noise\n",
    "    wn = np.random.normal(mean, var, len(series))\n",
    "\n",
    "    # Find mean of generated data\n",
    "    # Used to control amplitude of white noise\n",
    "    for i, val in enumerate(series):\n",
    "        wn[i] = wn[i] * val * 0.25\n",
    "\n",
    "    # Add white noise to data\n",
    "    wn_data = series + wn\n",
    "\n",
    "    return wn_data\n",
    "\n",
    "# Separate data into training data and testing data\n",
    "def split_data(data, train_size : float = 0.8):\n",
    "    train_size = int(len(data) * train_size)\n",
    "    train, test = data[0:train_size], data[train_size:len(data)]\n",
    "\n",
    "    test = test.reset_index(drop=True)\n",
    "    \n",
    "    return train, test\n",
    "\n",
    "# Function to convert data into supervised learning data sets\n",
    "# Returns input data and labels as two numpy arrays\n",
    "def transform_data_set(data, input_size, output_size):\n",
    "    arr_len = len(data) - (input_size - 1) - output_size\n",
    "    input_data = np.zeros((arr_len, input_size))\n",
    "    label = np.zeros((arr_len, output_size))\n",
    "\n",
    "    for i in range(arr_len):\n",
    "        for j in range(input_size):\n",
    "            input_data[i, j] = data[i + j]\n",
    "        for k in range(output_size):\n",
    "            if(i < (arr_len)):\n",
    "                label[i, k] = data[i + input_size + k]\n",
    "\n",
    "    return input_data, label\n",
    "\n",
    "# Test for stationarity\n",
    "def adfuller_test(data_set: Series):\n",
    "    result = adfuller(data_set, autolag='AIC')\n",
    "    adfstat = result[0]\n",
    "    pvalue = result[1]\n",
    "    print(\"-\"*30)\n",
    "    print(f'ADF Statistic: {adfstat}')\n",
    "    print(f'p-value: {pvalue}')\n",
    "\n",
    "    critvals_lt_adfstat = 0\n",
    "    print('Critial Values:')\n",
    "    for key, value in result[4].items():\n",
    "        print(f'{key}, {value}')\n",
    "        if (value < adfstat):\n",
    "            critvals_lt_adfstat += 1\n",
    "    print(\"-\"*30)\n",
    "    print(f\"Critical values less than adf statistic: {critvals_lt_adfstat}\")\n",
    "    print(f\"p-value is below the 5% significance level: {pvalue < 0.05}\")\n",
    "    print(f\"Stationary? {critvals_lt_adfstat == 0 and pvalue < 0.05}\")\n",
    "    print(\"-\"*30)\n",
    "    print(\"\")\n",
    "\n",
    "# Difference given data set to ensure stationarity\n",
    "def difference_data_set(data_set : Series):\n",
    "    temp_arr = []\n",
    "\n",
    "    # Difference the data set\n",
    "    for index, val in enumerate(data_set):\n",
    "        if (index != 0):\n",
    "            temp_arr.append(val - prev_val)\n",
    "        prev_val = val\n",
    "    \n",
    "    # Structure data set into Series\n",
    "    diff_data_set = Series(temp_arr)\n",
    "\n",
    "    return diff_data_set"
   ]
  },
  {
   "attachments": {},
   "cell_type": "markdown",
   "metadata": {},
   "source": [
    "### Generate Fibonacci series"
   ]
  },
  {
   "cell_type": "code",
   "execution_count": 17,
   "metadata": {},
   "outputs": [],
   "source": [
    "x, fib = gen_fib_series()\n",
    "wn_fib = add_white_noise(fib)\n",
    "train_input_data, test_input_data = split_data(wn_fib)\n",
    "train_input_data, train_label = transform_data_set(train_input_data, 4, 2)\n",
    "test_input_data, test_label = transform_data_set(test_input_data, 4, 2)\n",
    "\n",
    "train_input_data = np.log(train_input_data[1:])\n",
    "train_label = np.log(train_label[1:])\n",
    "test_input_data = np.log(test_input_data[1:])\n",
    "test_label = np.log(test_label[1:])"
   ]
  },
  {
   "attachments": {},
   "cell_type": "markdown",
   "metadata": {},
   "source": [
    "### Visualize Data"
   ]
  },
  {
   "cell_type": "code",
   "execution_count": null,
   "metadata": {},
   "outputs": [],
   "source": [
    "# Plot logarithmic Fibonacci series\n",
    "plot(x, fib, label='Fibonacci series')\n",
    "plot(x, wn_fib, label='Fibonacci series with white noise')\n",
    "yscale('log')\n",
    "legend()\n",
    "ylabel('Logarithmic scale')\n",
    "title('Fibonacci series')\n",
    "show()"
   ]
  },
  {
   "attachments": {},
   "cell_type": "markdown",
   "metadata": {},
   "source": [
    "### MLP"
   ]
  },
  {
   "cell_type": "code",
   "execution_count": 18,
   "metadata": {},
   "outputs": [
    {
     "name": "stdout",
     "output_type": "stream",
     "text": [
      "Test MSE: 1.1361\n",
      "Test MAE: 0.9516\n",
      "Test MAPE: 0.0442\n"
     ]
    }
   ],
   "source": [
    "# Define hyperparameters for MLP model with two-step prediction\n",
    "input_size = 4\n",
    "hidden_size = 100\n",
    "output_size = 2\n",
    "num_epochs = 100\n",
    "learning_rate = 0.001\n",
    "\n",
    "# Define model class\n",
    "class MLP(nn.Module):\n",
    "    def __init__(self, input_size, hidden_size, output_size):\n",
    "        super(MLP, self).__init__()\n",
    "        self.fc1 = nn.Linear(input_size, hidden_size)\n",
    "        self.relu = nn.ReLU()\n",
    "        self.fc2 = nn.Linear(hidden_size,output_size)\n",
    "\n",
    "    def forward(self, x):\n",
    "        out = self.fc1(x)\n",
    "        out = self.relu(out)\n",
    "        out = self.fc2(out)\n",
    "\n",
    "        return out\n",
    "\n",
    "# Initialize model\n",
    "model = MLP(input_size, hidden_size, output_size)\n",
    "\n",
    "# Define loss function and optimizer\n",
    "criterion = nn.MSELoss()\n",
    "optimizer = torch.optim.Adam(model.parameters(), lr=learning_rate)\n",
    "# Train model\n",
    "for epoch in range(num_epochs):\n",
    "    # Convert numpy arrays to torch tensors\n",
    "    inputs = Variable(torch.from_numpy(train_input_data).float())\n",
    "    labels = Variable(torch.from_numpy(train_label).float())\n",
    "\n",
    "    # Forward pass\n",
    "    outputs = model(inputs)\n",
    "    loss = criterion(outputs, labels)\n",
    "\n",
    "    # Backward and optimize\n",
    "    optimizer.zero_grad()\n",
    "    loss.backward()\n",
    "    optimizer.step()\n",
    "\n",
    "    # Print loss\n",
    "    if (epoch + 1) % 1000 == 0:\n",
    "        print('Epoch [%d/%d], Loss: %.4f' % (epoch + 1, num_epochs, loss.item()))\n",
    "\n",
    "# Test model\n",
    "model.eval()\n",
    "var_test_input_data = Variable(torch.from_numpy(test_input_data).float())\n",
    "test_output = model(var_test_input_data)\n",
    "\n",
    "# Find MSE, MAE, and MAPE of test data\n",
    "mlp_mse = mse(test_label, test_output.detach().numpy())\n",
    "mlp_mae = mae(test_label, test_output.detach().numpy())\n",
    "mlp_mape = mape(test_label, test_output.detach().numpy())\n",
    "print('Test MSE: %.4f' % mlp_mse)\n",
    "print('Test MAE: %.4f' % mlp_mae)\n",
    "print('Test MAPE: %.4f' % mlp_mape)\n",
    "\n",
    "# # Plot training data, test data, and predicted test data\n",
    "# plot(train_data, label='Training data')\n",
    "# plot(np.arange(len(train_data), len(train_data) + len(test_data)), test_data, label='Test data')\n",
    "# plot(np.arange(len(train_data), len(train_data) + len(test_data) - input_size), test_output.data.numpy(), label='Predicted test data', linestyle='--')\n",
    "# legend()\n",
    "# show()"
   ]
  },
  {
   "attachments": {},
   "cell_type": "markdown",
   "metadata": {},
   "source": [
    "### RNN"
   ]
  },
  {
   "cell_type": "code",
   "execution_count": 19,
   "metadata": {},
   "outputs": [
    {
     "name": "stdout",
     "output_type": "stream",
     "text": [
      "1/1 [==============================] - 0s 206ms/step\n",
      "Test MSE: 106.7416\n",
      "Test MAE: 10.2942\n",
      "Test MAPE: 0.4763\n"
     ]
    }
   ],
   "source": [
    "# Design RNN model\n",
    "model = keras.models.Sequential()\n",
    "model.add(keras.layers.SimpleRNN(5, input_shape=(4, 1), return_sequences=False))\n",
    "model.add(keras.layers.Dense(2))\n",
    "model.add(keras.layers.Activation('relu'))\n",
    "model.compile(loss='mean_squared_error', optimizer='adam')\n",
    "model.fit(train_input_data, train_label, epochs=100, batch_size=1, verbose=0)\n",
    "\n",
    "# Test model\n",
    "test_output = model.predict(test_input_data)\n",
    "\n",
    "# Find MSE, MAE, and MAPE of test data\n",
    "rnn_mse = mse(test_label, test_output)\n",
    "rnn_mae = mae(test_label, test_output)\n",
    "rnn_mape = mape(test_label, test_output)\n",
    "print('Test MSE: %.4f' % rnn_mse)\n",
    "print('Test MAE: %.4f' % rnn_mae)\n",
    "print('Test MAPE: %.4f' % rnn_mape)\n",
    "\n",
    "# # Plot training data, test data, and predicted test data\n",
    "# plot(train_input_data[:,0], label='Training data')\n",
    "# plot(np.arange(len(train_input_data), len(train_input_data) + len(test_input_data)), test_input_data[:,0], label='Test data')\n",
    "# plot(np.arange(len(train_input_data), len(train_input_data) + len(test_data) - input_size - 1), test_output[:,0], label='Predicted test data', linestyle='--')\n",
    "# legend()\n",
    "# show()"
   ]
  },
  {
   "attachments": {},
   "cell_type": "markdown",
   "metadata": {},
   "source": [
    "### LSTM"
   ]
  },
  {
   "cell_type": "code",
   "execution_count": 20,
   "metadata": {},
   "outputs": [
    {
     "name": "stdout",
     "output_type": "stream",
     "text": [
      "1/1 [==============================] - 1s 501ms/step\n",
      "Test MSE: 81.9409\n",
      "Test MAE: 9.0245\n",
      "Test MAPE: 0.4174\n"
     ]
    }
   ],
   "source": [
    "# Design LSTM model with Keras\n",
    "model = keras.models.Sequential()\n",
    "model.add(keras.layers.LSTM(5, input_shape=(4, 1), return_sequences=False))\n",
    "model.add(keras.layers.Dense(2))\n",
    "model.add(keras.layers.Activation('relu'))\n",
    "model.compile(loss='mean_squared_error', optimizer='adam')\n",
    "model.fit(train_input_data, train_label, epochs=100, batch_size=1, verbose=0)\n",
    "\n",
    "# Test model\n",
    "test_output = model.predict(test_input_data)\n",
    "\n",
    "# Find MSE, MAE, and MAPE of test data\n",
    "lstm_mse = mse(test_label, test_output)\n",
    "lstm_mae = mae(test_label, test_output)\n",
    "lstm_mape = mape(test_label, test_output)\n",
    "print('Test MSE: %.4f' % lstm_mse)\n",
    "print('Test MAE: %.4f' % lstm_mae)\n",
    "print('Test MAPE: %.4f' % lstm_mape)\n",
    "\n",
    "# # Plot training data, test data, and predicted test data\n",
    "# plot(train_input_data[:,0], label='Training data')\n",
    "# plot(np.arange(len(train_input_data), len(train_input_data) + len(test_input_data)), test_input_data[:,0], label='Test data')\n",
    "# plot(np.arange(len(train_input_data), len(train_input_data) + len(test_data) - input_size - 1), test_output[:,0], label='Predicted test data', linestyle='--')\n",
    "# legend()\n",
    "# show()"
   ]
  },
  {
   "attachments": {},
   "cell_type": "markdown",
   "metadata": {},
   "source": [
    "### ARIMA"
   ]
  },
  {
   "attachments": {},
   "cell_type": "markdown",
   "metadata": {},
   "source": [
    "#### Box-Jenkins"
   ]
  },
  {
   "cell_type": "code",
   "execution_count": 10,
   "metadata": {},
   "outputs": [
    {
     "name": "stdout",
     "output_type": "stream",
     "text": [
      "------------------------------\n",
      "ADF Statistic: 8.02613525454802\n",
      "p-value: 1.0\n",
      "Critial Values:\n",
      "1%, -3.6155091011809297\n",
      "5%, -2.941262357486514\n",
      "10%, -2.6091995013850418\n",
      "------------------------------\n",
      "Critical values less than adf statistic: 3\n",
      "p-value is below the 5% significance level: False\n",
      "Stationary? False\n",
      "------------------------------\n",
      "\n",
      "------------------------------\n",
      "ADF Statistic: -3.273905104090997\n",
      "p-value: 0.016085981434082658\n",
      "Critial Values:\n",
      "1%, -3.6209175221605827\n",
      "5%, -2.9435394610388332\n",
      "10%, -2.6104002410518627\n",
      "------------------------------\n",
      "Critical values less than adf statistic: 1\n",
      "p-value is below the 5% significance level: True\n",
      "Stationary? False\n",
      "------------------------------\n",
      "\n"
     ]
    }
   ],
   "source": [
    "# Test for stationarity\n",
    "adfuller_test(wn_fib)\n",
    "\n",
    "# Logarithmize data set\n",
    "log_fib = np.log(wn_fib[1:])\n",
    "\n",
    "# Difference data set\n",
    "diff_log_fib = np.diff(log_fib)\n",
    "\n",
    "# Test for stationarity\n",
    "adfuller_test(diff_log_fib)\n"
   ]
  },
  {
   "cell_type": "code",
   "execution_count": 11,
   "metadata": {},
   "outputs": [
    {
     "data": {
      "text/plain": [
       "[<matplotlib.lines.Line2D at 0x7f0bf5ef05e0>]"
      ]
     },
     "execution_count": 11,
     "metadata": {},
     "output_type": "execute_result"
    },
    {
     "data": {
      "image/png": "[encoded data removed]",
      "text/plain": [
       "<Figure size 640x480 with 1 Axes>"
      ]
     },
     "metadata": {},
     "output_type": "display_data"
    }
   ],
   "source": [
    "# Plot data set to find seasonality\n",
    "plot(diff_log_fib)\n",
    "# No clear occurence of seasonality\n"
   ]
  },
  {
   "cell_type": "code",
   "execution_count": 12,
   "metadata": {},
   "outputs": [
    {
     "name": "stderr",
     "output_type": "stream",
     "text": [
      "/home/zanilicious/anaconda3/envs/IL2233/lib/python3.9/site-packages/statsmodels/graphics/tsaplots.py:348: FutureWarning: The default method 'yw' can produce PACF values outside of the [-1,1] interval. After 0.13, the default will change tounadjusted Yule-Walker ('ywm'). You can use this method now by setting method='ywm'.\n",
      "  warnings.warn(\n"
     ]
    },
    {
     "data": {
      "image/png": "[encoded data removed]",
      "text/plain": [
       "<Figure size 640x480 with 1 Axes>"
      ]
     },
     "execution_count": 12,
     "metadata": {},
     "output_type": "execute_result"
    },
    {
     "data": {
      "image/png": "[encoded data removed]",
      "text/plain": [
       "<Figure size 640x480 with 1 Axes>"
      ]
     },
     "metadata": {},
     "output_type": "display_data"
    },
    {
     "data": {
      "image/png": "[encoded data removed]",
      "text/plain": [
       "<Figure size 640x480 with 1 Axes>"
      ]
     },
     "metadata": {},
     "output_type": "display_data"
    }
   ],
   "source": [
    "# Order identification\n",
    "plot_acf(diff_log_fib)\n",
    "plot_pacf(diff_log_fib)\n",
    "# p = 3, q = 3"
   ]
  },
  {
   "cell_type": "code",
   "execution_count": 13,
   "metadata": {},
   "outputs": [
    {
     "name": "stdout",
     "output_type": "stream",
     "text": [
      "Performing stepwise search to minimize aic\n",
      " ARIMA(0,0,0)(0,0,0)[0]             : AIC=84.381, Time=0.05 sec\n",
      " ARIMA(1,0,0)(0,0,0)[0]             : AIC=67.094, Time=0.02 sec\n",
      " ARIMA(0,0,1)(0,0,0)[0]             : AIC=75.688, Time=0.01 sec\n",
      " ARIMA(2,0,0)(0,0,0)[0]             : AIC=56.793, Time=0.02 sec\n",
      " ARIMA(3,0,0)(0,0,0)[0]             : AIC=39.570, Time=0.04 sec\n",
      " ARIMA(4,0,0)(0,0,0)[0]             : AIC=41.127, Time=0.05 sec\n",
      " ARIMA(3,0,1)(0,0,0)[0]             : AIC=inf, Time=0.17 sec\n",
      " ARIMA(2,0,1)(0,0,0)[0]             : AIC=inf, Time=0.13 sec\n",
      " ARIMA(4,0,1)(0,0,0)[0]             : AIC=inf, Time=0.17 sec\n",
      " ARIMA(3,0,0)(0,0,0)[0] intercept   : AIC=19.824, Time=0.08 sec\n",
      " ARIMA(2,0,0)(0,0,0)[0] intercept   : AIC=18.067, Time=0.04 sec\n",
      " ARIMA(1,0,0)(0,0,0)[0] intercept   : AIC=23.197, Time=0.02 sec\n",
      " ARIMA(2,0,1)(0,0,0)[0] intercept   : AIC=inf, Time=0.15 sec\n",
      " ARIMA(1,0,1)(0,0,0)[0] intercept   : AIC=inf, Time=0.12 sec\n",
      " ARIMA(3,0,1)(0,0,0)[0] intercept   : AIC=inf, Time=0.23 sec\n",
      "\n",
      "Best model:  ARIMA(2,0,0)(0,0,0)[0] intercept\n",
      "Total fit time: 1.346 seconds\n"
     ]
    },
    {
     "data": {
      "text/html": [
       "<style>#sk-container-id-1 {color: black;background-color: white;}#sk-container-id-1 pre{padding: 0;}#sk-container-id-1 div.sk-toggleable {background-color: white;}#sk-container-id-1 label.sk-toggleable__label {cursor: pointer;display: block;width: 100%;margin-bottom: 0;padding: 0.3em;box-sizing: border-box;text-align: center;}#sk-container-id-1 label.sk-toggleable__label-arrow:before {content: \"▸\";float: left;margin-right: 0.25em;color: #696969;}#sk-container-id-1 label.sk-toggleable__label-arrow:hover:before {color: black;}#sk-container-id-1 div.sk-estimator:hover label.sk-toggleable__label-arrow:before {color: black;}#sk-container-id-1 div.sk-toggleable__content {max-height: 0;max-width: 0;overflow: hidden;text-align: left;background-color: #f0f8ff;}#sk-container-id-1 div.sk-toggleable__content pre {margin: 0.2em;color: black;border-radius: 0.25em;background-color: #f0f8ff;}#sk-container-id-1 input.sk-toggleable__control:checked~div.sk-toggleable__content {max-height: 200px;max-width: 100%;overflow: auto;}#sk-container-id-1 input.sk-toggleable__control:checked~label.sk-toggleable__label-arrow:before {content: \"▾\";}#sk-container-id-1 div.sk-estimator input.sk-toggleable__control:checked~label.sk-toggleable__label {background-color: #d4ebff;}#sk-container-id-1 div.sk-label input.sk-toggleable__control:checked~label.sk-toggleable__label {background-color: #d4ebff;}#sk-container-id-1 input.sk-hidden--visually {border: 0;clip: rect(1px 1px 1px 1px);clip: rect(1px, 1px, 1px, 1px);height: 1px;margin: -1px;overflow: hidden;padding: 0;position: absolute;width: 1px;}#sk-container-id-1 div.sk-estimator {font-family: monospace;background-color: #f0f8ff;border: 1px dotted black;border-radius: 0.25em;box-sizing: border-box;margin-bottom: 0.5em;}#sk-container-id-1 div.sk-estimator:hover {background-color: #d4ebff;}#sk-container-id-1 div.sk-parallel-item::after {content: \"\";width: 100%;border-bottom: 1px solid gray;flex-grow: 1;}#sk-container-id-1 div.sk-label:hover label.sk-toggleable__label {background-color: #d4ebff;}#sk-container-id-1 div.sk-serial::before {content: \"\";position: absolute;border-left: 1px solid gray;box-sizing: border-box;top: 0;bottom: 0;left: 50%;z-index: 0;}#sk-container-id-1 div.sk-serial {display: flex;flex-direction: column;align-items: center;background-color: white;padding-right: 0.2em;padding-left: 0.2em;position: relative;}#sk-container-id-1 div.sk-item {position: relative;z-index: 1;}#sk-container-id-1 div.sk-parallel {display: flex;align-items: stretch;justify-content: center;background-color: white;position: relative;}#sk-container-id-1 div.sk-item::before, #sk-container-id-1 div.sk-parallel-item::before {content: \"\";position: absolute;border-left: 1px solid gray;box-sizing: border-box;top: 0;bottom: 0;left: 50%;z-index: -1;}#sk-container-id-1 div.sk-parallel-item {display: flex;flex-direction: column;z-index: 1;position: relative;background-color: white;}#sk-container-id-1 div.sk-parallel-item:first-child::after {align-self: flex-end;width: 50%;}#sk-container-id-1 div.sk-parallel-item:last-child::after {align-self: flex-start;width: 50%;}#sk-container-id-1 div.sk-parallel-item:only-child::after {width: 0;}#sk-container-id-1 div.sk-dashed-wrapped {border: 1px dashed gray;margin: 0 0.4em 0.5em 0.4em;box-sizing: border-box;padding-bottom: 0.4em;background-color: white;}#sk-container-id-1 div.sk-label label {font-family: monospace;font-weight: bold;display: inline-block;line-height: 1.2em;}#sk-container-id-1 div.sk-label-container {text-align: center;}#sk-container-id-1 div.sk-container {/* jupyter's `normalize.less` sets `[hidden] { display: none; }` but bootstrap.min.css set `[hidden] { display: none !important; }` so we also need the `!important` here to be able to override the default hidden behavior on the sphinx rendered scikit-learn.org. See: https://github.com/scikit-learn/scikit-learn/issues/21755 */display: inline-block !important;position: relative;}#sk-container-id-1 div.sk-text-repr-fallback {display: none;}</style><div id=\"sk-container-id-1\" class=\"sk-top-container\"><div class=\"sk-text-repr-fallback\"><pre> ARIMA(2,0,0)(0,0,0)[0] intercept</pre><b>In a Jupyter environment, please rerun this cell to show the HTML representation or trust the notebook. <br />On GitHub, the HTML representation is unable to render, please try loading this page with nbviewer.org.</b></div><div class=\"sk-container\" hidden><div class=\"sk-item\"><div class=\"sk-estimator sk-toggleable\"><input class=\"sk-toggleable__control sk-hidden--visually\" id=\"sk-estimator-id-1\" type=\"checkbox\" checked><label for=\"sk-estimator-id-1\" class=\"sk-toggleable__label sk-toggleable__label-arrow\">ARIMA</label><div class=\"sk-toggleable__content\"><pre> ARIMA(2,0,0)(0,0,0)[0] intercept</pre></div></div></div></div></div>"
      ],
      "text/plain": [
       "ARIMA(order=(2, 0, 0), scoring_args={}, suppress_warnings=True)"
      ]
     },
     "execution_count": 13,
     "metadata": {},
     "output_type": "execute_result"
    }
   ],
   "source": [
    "# Model selection\n",
    "auto_arima(diff_log_fib, start_p=0, start_q=0, max_p=5, max_q=5, seasonal=False, trace=True)\n",
    "# 3, 0, 1 model selected"
   ]
  },
  {
   "attachments": {},
   "cell_type": "markdown",
   "metadata": {},
   "source": [
    "#### Model"
   ]
  },
  {
   "cell_type": "code",
   "execution_count": 14,
   "metadata": {},
   "outputs": [
    {
     "name": "stderr",
     "output_type": "stream",
     "text": [
      "/home/zanilicious/anaconda3/envs/IL2233/lib/python3.9/site-packages/statsmodels/tsa/statespace/sarimax.py:966: UserWarning: Non-stationary starting autoregressive parameters found. Using zeros as starting parameters.\n",
      "  warn('Non-stationary starting autoregressive parameters'\n",
      "/home/zanilicious/anaconda3/envs/IL2233/lib/python3.9/site-packages/statsmodels/tsa/statespace/sarimax.py:978: UserWarning: Non-invertible starting MA parameters found. Using zeros as starting parameters.\n",
      "  warn('Non-invertible starting MA parameters found.'\n"
     ]
    },
    {
     "name": "stdout",
     "output_type": "stream",
     "text": [
      "Test MSE: 0.0418\n",
      "Test MAE: 0.1595\n",
      "Test MAPE: 0.7449\n"
     ]
    },
    {
     "name": "stderr",
     "output_type": "stream",
     "text": [
      "/home/zanilicious/anaconda3/envs/IL2233/lib/python3.9/site-packages/statsmodels/base/model.py:604: ConvergenceWarning: Maximum Likelihood optimization failed to converge. Check mle_retvals\n",
      "  warnings.warn(\"Maximum Likelihood optimization failed to \"\n"
     ]
    }
   ],
   "source": [
    "# Model training\n",
    "model = ARIMA(diff_log_fib[4:], order=(4, 0, 2)).fit()\n",
    "model_prediction = model.predict(typ='levels')\n",
    "# Find MSE, MAE, and MAPE of test data\n",
    "arima_mse = mse(diff_log_fib[4:], model_prediction)\n",
    "arima_mae = mae(diff_log_fib[4:], model_prediction)\n",
    "arima_mape = mape(diff_log_fib[4:], model_prediction)\n",
    "print('Test MSE: %.4f' % arima_mse)\n",
    "print('Test MAE: %.4f' % arima_mae)\n",
    "print('Test MAPE: %.4f' % arima_mape)"
   ]
  },
  {
   "attachments": {},
   "cell_type": "markdown",
   "metadata": {},
   "source": [
    "### Comparisons"
   ]
  },
  {
   "cell_type": "code",
   "execution_count": null,
   "metadata": {},
   "outputs": [],
   "source": []
  }
 ],
 "metadata": {
  "kernelspec": {
   "display_name": "IL2233",
   "language": "python",
   "name": "python3"
  },
  "language_info": {
   "codemirror_mode": {
    "name": "ipython",
    "version": 3
   },
   "file_extension": ".py",
   "mimetype": "text/x-python",
   "name": "python",
   "nbconvert_exporter": "python",
   "pygments_lexer": "ipython3",
   "version": "3.9.16"
  },
  "orig_nbformat": 4
 },
 "nbformat": 4,
 "nbformat_minor": 2
}
